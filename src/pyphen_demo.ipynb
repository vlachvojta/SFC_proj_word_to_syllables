{
 "cells": [
  {
   "cell_type": "markdown",
   "metadata": {},
   "source": [
    "# Demo for pyphen library\n",
    "\n",
    "This notebook contains example of using pyphen library for automatical hyphenation of words.\n",
    "\n",
    "[https://pyphen.org/](https://pyphen.org/)\n",
    "\n",
    "`pip install pyphen`\n"
   ]
  },
  {
   "cell_type": "code",
   "execution_count": 16,
   "metadata": {},
   "outputs": [],
   "source": [
    "import pyphen\n",
    "from functools import partial"
   ]
  },
  {
   "cell_type": "markdown",
   "metadata": {},
   "source": [
    "## Example from the website"
   ]
  },
  {
   "cell_type": "code",
   "execution_count": 17,
   "metadata": {},
   "outputs": [
    {
     "name": "stdout",
     "output_type": "stream",
     "text": [
      "True\n",
      "let-ter-gre-pen\n",
      "('Amster', 'dam')\n",
      "('Am', 'sterdam')\n"
     ]
    }
   ],
   "source": [
    "pyphen.language_fallback('nl_NL_variant1')\n",
    "\n",
    "print('nl_NL' in pyphen.LANGUAGES)\n",
    "\n",
    "dic = pyphen.Pyphen(lang='nl_NL')\n",
    "print(dic.inserted('lettergrepen'))\n",
    "\n",
    "dic.wrap('autobandventieldopje', 11)\n",
    "\n",
    "for pair in dic.iterate('Amsterdam'):\n",
    "    print(pair)\n"
   ]
  },
  {
   "cell_type": "markdown",
   "metadata": {},
   "source": [
    "## Czech language"
   ]
  },
  {
   "cell_type": "code",
   "execution_count": 18,
   "metadata": {},
   "outputs": [
    {
     "data": {
      "text/plain": [
       "'nej-ku-laťou-lin-ka-těj-ší'"
      ]
     },
     "execution_count": 18,
     "metadata": {},
     "output_type": "execute_result"
    }
   ],
   "source": [
    "dic = pyphen.Pyphen(lang='cs_CZ')\n",
    "dic.inserted('nejkulaťoulinkatější')"
   ]
  },
  {
   "cell_type": "code",
   "execution_count": 19,
   "metadata": {},
   "outputs": [
    {
     "name": "stdout",
     "output_type": "stream",
     "text": [
      "nej-ku-laťou-lin-ka-těj-ší\n",
      "nej-ne-ob-hos-po-da-řo-vá-va-tel-něj-ší-mi\n"
     ]
    }
   ],
   "source": [
    "transcribe = partial(pyphen.Pyphen(lang='cs_CZ').inserted)\n",
    "print(transcribe('nejkulaťoulinkatější'))\n",
    "print(transcribe('nejneobhospodařovávatelnějšími'))"
   ]
  }
 ],
 "metadata": {
  "kernelspec": {
   "display_name": "Python 3",
   "language": "python",
   "name": "python3"
  },
  "language_info": {
   "codemirror_mode": {
    "name": "ipython",
    "version": 3
   },
   "file_extension": ".py",
   "mimetype": "text/x-python",
   "name": "python",
   "nbconvert_exporter": "python",
   "pygments_lexer": "ipython3",
   "version": "3.8.10"
  }
 },
 "nbformat": 4,
 "nbformat_minor": 2
}
